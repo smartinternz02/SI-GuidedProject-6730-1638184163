{
 "cells": [
  {
   "cell_type": "code",
   "execution_count": 1,
   "id": "9571d3fa",
   "metadata": {},
   "outputs": [],
   "source": [
    "from tensorflow.keras.preprocessing.image import ImageDataGenerator"
   ]
  },
  {
   "cell_type": "code",
   "execution_count": 2,
   "id": "d9664bda",
   "metadata": {},
   "outputs": [],
   "source": [
    "train_data=ImageDataGenerator(rescale=1./255,zoom_range=0.2,horizontal_flip=True,vertical_flip=False)"
   ]
  },
  {
   "cell_type": "code",
   "execution_count": 3,
   "id": "a82373c5",
   "metadata": {},
   "outputs": [],
   "source": [
    "test_data=ImageDataGenerator(rescale=1/255)"
   ]
  },
  {
   "cell_type": "code",
   "execution_count": 4,
   "id": "530165b9",
   "metadata": {},
   "outputs": [
    {
     "name": "stdout",
     "output_type": "stream",
     "text": [
      "Found 240 images belonging to 4 classes.\n"
     ]
    }
   ],
   "source": [
    "x_train=train_data.flow_from_directory(r\"C:\\Users\\madha\\OneDrive\\Desktop\\ML_DL\\Assignment_4\\Fruits_Dataset\\train\",target_size=(64,64),class_mode='categorical',batch_size=100)"
   ]
  },
  {
   "cell_type": "code",
   "execution_count": 5,
   "id": "0a4c5109",
   "metadata": {},
   "outputs": [
    {
     "name": "stdout",
     "output_type": "stream",
     "text": [
      "Found 60 images belonging to 4 classes.\n"
     ]
    }
   ],
   "source": [
    "x_test=test_data.flow_from_directory(r\"C:\\Users\\madha\\OneDrive\\Desktop\\ML_DL\\Assignment_4\\Fruits_Dataset\\test\",target_size=(64,64),class_mode='categorical',batch_size=100)"
   ]
  },
  {
   "cell_type": "code",
   "execution_count": 6,
   "id": "f7a835f5",
   "metadata": {},
   "outputs": [],
   "source": [
    "from tensorflow.keras.models import Sequential\n",
    "from tensorflow.keras.layers import Dense,Convolution2D,MaxPooling2D,Flatten"
   ]
  },
  {
   "cell_type": "code",
   "execution_count": 7,
   "id": "eb02dde7",
   "metadata": {},
   "outputs": [],
   "source": [
    "model=Sequential()\n",
    "model.add(Convolution2D(32,(3,3),activation='relu',input_shape=(64,64,3)))\n",
    "model.add(MaxPooling2D(pool_size=(2,2)))\n",
    "model.add(Flatten())"
   ]
  },
  {
   "cell_type": "code",
   "execution_count": 8,
   "id": "cad8da70",
   "metadata": {},
   "outputs": [
    {
     "name": "stdout",
     "output_type": "stream",
     "text": [
      "Model: \"sequential\"\n",
      "_________________________________________________________________\n",
      " Layer (type)                Output Shape              Param #   \n",
      "=================================================================\n",
      " conv2d (Conv2D)             (None, 62, 62, 32)        896       \n",
      "                                                                 \n",
      " max_pooling2d (MaxPooling2D  (None, 31, 31, 32)       0         \n",
      " )                                                               \n",
      "                                                                 \n",
      " flatten (Flatten)           (None, 30752)             0         \n",
      "                                                                 \n",
      "=================================================================\n",
      "Total params: 896\n",
      "Trainable params: 896\n",
      "Non-trainable params: 0\n",
      "_________________________________________________________________\n"
     ]
    }
   ],
   "source": [
    "model.summary()"
   ]
  },
  {
   "cell_type": "code",
   "execution_count": 8,
   "id": "6938ea18",
   "metadata": {},
   "outputs": [],
   "source": [
    "model.add(Dense(300,activation='relu'))\n",
    "model.add(Dense(150,activation='relu'))"
   ]
  },
  {
   "cell_type": "code",
   "execution_count": 9,
   "id": "674df9be",
   "metadata": {},
   "outputs": [],
   "source": [
    "model.add(Dense(4,activation='softmax'))"
   ]
  },
  {
   "cell_type": "code",
   "execution_count": 10,
   "id": "be92c5c2",
   "metadata": {},
   "outputs": [],
   "source": [
    "model.compile(loss='categorical_crossentropy',optimizer='adam',metrics=['accuracy'])"
   ]
  },
  {
   "cell_type": "code",
   "execution_count": 11,
   "id": "c76d4b0c",
   "metadata": {},
   "outputs": [
    {
     "name": "stderr",
     "output_type": "stream",
     "text": [
      "C:\\Users\\madha\\AppData\\Local\\Temp/ipykernel_13872/4157153657.py:1: UserWarning: `Model.fit_generator` is deprecated and will be removed in a future version. Please use `Model.fit`, which supports generators.\n",
      "  model.fit_generator(x_train,steps_per_epoch=len(x_train),epochs=15,validation_data=x_test,validation_steps=len(x_test))\n",
      "C:\\Users\\madha\\anaconda3\\lib\\site-packages\\PIL\\Image.py:975: UserWarning: Palette images with Transparency expressed in bytes should be converted to RGBA images\n",
      "  warnings.warn(\n"
     ]
    },
    {
     "name": "stdout",
     "output_type": "stream",
     "text": [
      "Epoch 1/15\n",
      "3/3 [==============================] - 10s 3s/step - loss: 2.8134 - accuracy: 0.3208 - val_loss: 6.1136 - val_accuracy: 0.3000\n",
      "Epoch 2/15\n",
      "3/3 [==============================] - 7s 2s/step - loss: 3.7581 - accuracy: 0.3292 - val_loss: 2.0237 - val_accuracy: 0.3333\n",
      "Epoch 3/15\n",
      "3/3 [==============================] - 7s 3s/step - loss: 1.7670 - accuracy: 0.3500 - val_loss: 1.4181 - val_accuracy: 0.5000\n",
      "Epoch 4/15\n",
      "3/3 [==============================] - 7s 3s/step - loss: 1.2942 - accuracy: 0.5417 - val_loss: 1.1182 - val_accuracy: 0.6667\n",
      "Epoch 5/15\n",
      "3/3 [==============================] - 7s 2s/step - loss: 1.1380 - accuracy: 0.4917 - val_loss: 1.1055 - val_accuracy: 0.5500\n",
      "Epoch 6/15\n",
      "3/3 [==============================] - 7s 2s/step - loss: 1.0520 - accuracy: 0.6125 - val_loss: 1.0453 - val_accuracy: 0.5833\n",
      "Epoch 7/15\n",
      "3/3 [==============================] - 7s 3s/step - loss: 0.9585 - accuracy: 0.6917 - val_loss: 0.9643 - val_accuracy: 0.6500\n",
      "Epoch 8/15\n",
      "3/3 [==============================] - 7s 2s/step - loss: 0.8971 - accuracy: 0.7250 - val_loss: 0.8904 - val_accuracy: 0.7167\n",
      "Epoch 9/15\n",
      "3/3 [==============================] - 7s 3s/step - loss: 0.7983 - accuracy: 0.7500 - val_loss: 0.7730 - val_accuracy: 0.7667\n",
      "Epoch 10/15\n",
      "3/3 [==============================] - 6s 2s/step - loss: 0.6773 - accuracy: 0.7875 - val_loss: 0.7287 - val_accuracy: 0.8000\n",
      "Epoch 11/15\n",
      "3/3 [==============================] - 7s 2s/step - loss: 0.6111 - accuracy: 0.8167 - val_loss: 0.6936 - val_accuracy: 0.7833\n",
      "Epoch 12/15\n",
      "3/3 [==============================] - 7s 2s/step - loss: 0.5430 - accuracy: 0.8167 - val_loss: 0.7272 - val_accuracy: 0.7333\n",
      "Epoch 13/15\n",
      "3/3 [==============================] - 7s 2s/step - loss: 0.4932 - accuracy: 0.8458 - val_loss: 0.6004 - val_accuracy: 0.8333\n",
      "Epoch 14/15\n",
      "3/3 [==============================] - 7s 2s/step - loss: 0.4151 - accuracy: 0.8667 - val_loss: 0.5911 - val_accuracy: 0.8000\n",
      "Epoch 15/15\n",
      "3/3 [==============================] - 7s 2s/step - loss: 0.3775 - accuracy: 0.8917 - val_loss: 0.6442 - val_accuracy: 0.8167\n"
     ]
    },
    {
     "data": {
      "text/plain": [
       "<keras.callbacks.History at 0x1dce6152d00>"
      ]
     },
     "execution_count": 11,
     "metadata": {},
     "output_type": "execute_result"
    }
   ],
   "source": [
    "model.fit_generator(x_train,steps_per_epoch=len(x_train),epochs=15,validation_data=x_test,validation_steps=len(x_test))"
   ]
  },
  {
   "cell_type": "code",
   "execution_count": 12,
   "id": "2f932213",
   "metadata": {},
   "outputs": [],
   "source": [
    "model.save('Fruits.h5')"
   ]
  },
  {
   "cell_type": "markdown",
   "id": "9e3e6f62",
   "metadata": {},
   "source": [
    "# TESTING NO:1"
   ]
  },
  {
   "cell_type": "code",
   "execution_count": 90,
   "id": "20e553d3",
   "metadata": {},
   "outputs": [],
   "source": [
    "from tensorflow.keras.models import load_model\n",
    "from tensorflow.keras.preprocessing import image\n",
    "import numpy as np"
   ]
  },
  {
   "cell_type": "code",
   "execution_count": 91,
   "id": "7ccb8f98",
   "metadata": {},
   "outputs": [
    {
     "data": {
      "text/plain": [
       "{'Apple': 0, 'Banana': 1, 'Mixed': 2, 'Orange': 3}"
      ]
     },
     "execution_count": 91,
     "metadata": {},
     "output_type": "execute_result"
    }
   ],
   "source": [
    "x_train.class_indices"
   ]
  },
  {
   "cell_type": "code",
   "execution_count": 92,
   "id": "698f2932",
   "metadata": {},
   "outputs": [
    {
     "data": {
      "text/plain": [
       "array([[0., 0., 0., 1.]], dtype=float32)"
      ]
     },
     "execution_count": 92,
     "metadata": {},
     "output_type": "execute_result"
    }
   ],
   "source": [
    "model=load_model('Fruits.h5')\n",
    "img=image.load_img(r\"C:\\Users\\madha\\OneDrive\\Desktop\\ML_DL\\Assignment_4\\Fruits_Dataset\\test\\Orange\\orange_77.jpg\",target_size=(64,64))\n",
    "x=image.img_to_array(img)\n",
    "x=np.expand_dims(x,axis=0)\n",
    "pred=model.predict(x)\n",
    "pred"
   ]
  },
  {
   "cell_type": "code",
   "execution_count": 93,
   "id": "1abbf268",
   "metadata": {},
   "outputs": [
    {
     "data": {
      "text/plain": [
       "{'Apple': 0, 'Banana': 1, 'Mixed': 2, 'Orange': 3}"
      ]
     },
     "execution_count": 93,
     "metadata": {},
     "output_type": "execute_result"
    }
   ],
   "source": [
    "x_train.class_indices"
   ]
  },
  {
   "cell_type": "code",
   "execution_count": 94,
   "id": "a95e0205",
   "metadata": {},
   "outputs": [
    {
     "data": {
      "text/plain": [
       "[[0.0, 0.0, 0.0, 1.0]]"
      ]
     },
     "execution_count": 94,
     "metadata": {},
     "output_type": "execute_result"
    }
   ],
   "source": [
    "a=pred.tolist()\n",
    "a"
   ]
  },
  {
   "cell_type": "code",
   "execution_count": 95,
   "id": "6efdc6c2",
   "metadata": {},
   "outputs": [
    {
     "data": {
      "text/plain": [
       "[0.0, 0.0, 0.0, 1.0]"
      ]
     },
     "execution_count": 95,
     "metadata": {},
     "output_type": "execute_result"
    }
   ],
   "source": [
    "from itertools import chain\n",
    "final_list=list(chain.from_iterable(a))\n",
    "final_list"
   ]
  },
  {
   "cell_type": "code",
   "execution_count": 96,
   "id": "3eaca8af",
   "metadata": {},
   "outputs": [],
   "source": [
    "classes=['Apple','Banana','Mixed','Orange']"
   ]
  },
  {
   "cell_type": "code",
   "execution_count": 97,
   "id": "f1e53ee1",
   "metadata": {},
   "outputs": [],
   "source": [
    "index=final_list.index(1.0)"
   ]
  },
  {
   "cell_type": "code",
   "execution_count": 98,
   "id": "581dd94d",
   "metadata": {},
   "outputs": [
    {
     "data": {
      "text/plain": [
       "'Orange'"
      ]
     },
     "execution_count": 98,
     "metadata": {},
     "output_type": "execute_result"
    }
   ],
   "source": [
    "classes[index]"
   ]
  },
  {
   "cell_type": "code",
   "execution_count": 99,
   "id": "9ee35f5a",
   "metadata": {},
   "outputs": [
    {
     "data": {
      "text/plain": [
       "(1, 64, 64, 3)"
      ]
     },
     "execution_count": 99,
     "metadata": {},
     "output_type": "execute_result"
    }
   ],
   "source": [
    "x.shape"
   ]
  },
  {
   "cell_type": "code",
   "execution_count": 100,
   "id": "3dfb4ed6",
   "metadata": {},
   "outputs": [
    {
     "data": {
      "text/plain": [
       "numpy.ndarray"
      ]
     },
     "execution_count": 100,
     "metadata": {},
     "output_type": "execute_result"
    }
   ],
   "source": [
    "type(x)"
   ]
  },
  {
   "cell_type": "code",
   "execution_count": 101,
   "id": "fe91cb59",
   "metadata": {},
   "outputs": [
    {
     "data": {
      "text/plain": [
       "4"
      ]
     },
     "execution_count": 101,
     "metadata": {},
     "output_type": "execute_result"
    }
   ],
   "source": [
    "x.ndim"
   ]
  }
 ],
 "metadata": {
  "kernelspec": {
   "display_name": "Python 3 (ipykernel)",
   "language": "python",
   "name": "python3"
  },
  "language_info": {
   "codemirror_mode": {
    "name": "ipython",
    "version": 3
   },
   "file_extension": ".py",
   "mimetype": "text/x-python",
   "name": "python",
   "nbconvert_exporter": "python",
   "pygments_lexer": "ipython3",
   "version": "3.9.7"
  }
 },
 "nbformat": 4,
 "nbformat_minor": 5
}
